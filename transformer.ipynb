100%|██████████| 48953/48953 [09:43<00:00, 83.89it/s]
WARNING:tensorflow:From C:\Users\tberge00\AppData\Roaming\Python\Python311\site-packages\keras\src\backend.py:873: The name tf.get_default_graph is deprecated. Please use tf.compat.v1.get_default_graph instead.

Image size: 120 X 120
Patch size: 12 X 12
Patches per image: 100
Elements per patch: 432


Epoch 1/10
276/276 [==============================] - 404s 1s/step - loss: 1.5831 - accuracy: 0.3694 - val_loss: 1.2768 - val_accuracy: 0.4646
Epoch 2/10
169/276 [=================>............] - ETA: 2:28 - loss: 1.3108 - accuracy: 0.4485
WARNING:tensorflow:From C:\Users\tberge00\AppData\Roaming\Python\Python311\site-packages\keras\src\losses.py:2976: The name tf.losses.sparse_softmax_cross_entropy is deprecated. Please use tf.compat.v1.losses.sparse_softmax_cross_entropy instead.
